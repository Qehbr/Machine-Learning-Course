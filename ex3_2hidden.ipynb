{
 "cells": [
  {
   "metadata": {
    "ExecuteTime": {
     "end_time": "2025-01-09T10:29:55.949895Z",
     "start_time": "2025-01-09T10:29:55.945894Z"
    }
   },
   "cell_type": "code",
   "source": [
    "from sklearn.datasets import fetch_openml\n",
    "from sklearn.metrics import roc_auc_score\n",
    "from sklearn.model_selection import train_test_split\n",
    "import matplotlib.pyplot as plt\n",
    "import numpy as np"
   ],
   "outputs": [],
   "execution_count": 9
  },
  {
   "metadata": {
    "ExecuteTime": {
     "end_time": "2025-01-09T10:30:08.514386Z",
     "start_time": "2025-01-09T10:29:56.603671Z"
    }
   },
   "cell_type": "code",
   "source": [
    "X, y = fetch_openml('mnist_784', version=1, return_X_y=True)\n",
    "X = X.values\n",
    "y = y.astype(int).values\n",
    "X = ((X / 255.) - .5) * 2"
   ],
   "outputs": [],
   "execution_count": 10
  },
  {
   "cell_type": "code",
   "metadata": {
    "ExecuteTime": {
     "end_time": "2025-01-09T10:30:54.941480Z",
     "start_time": "2025-01-09T10:30:54.138083Z"
    }
   },
   "source": [
    "X_temp, X_test, y_temp, y_test = train_test_split(\n",
    "    X, y, test_size=0.3, random_state=123, stratify=y)\n",
    "\n",
    "X_train, X_valid, y_train, y_valid = train_test_split(\n",
    "    X_temp, y_temp, test_size=0.2, random_state=123, stratify=y_temp)"
   ],
   "outputs": [],
   "execution_count": 11
  },
  {
   "cell_type": "code",
   "metadata": {
    "ExecuteTime": {
     "end_time": "2025-01-09T10:30:54.950709Z",
     "start_time": "2025-01-09T10:30:54.945483Z"
    }
   },
   "source": [
    "##########################\n",
    "### MODEL\n",
    "##########################\n",
    "\n",
    "def sigmoid(z):\n",
    "    return 1. / (1. + np.exp(-z))\n",
    "\n",
    "\n",
    "def int_to_onehot(y, num_labels):\n",
    "    ary = np.zeros((y.shape[0], num_labels))\n",
    "    for i, val in enumerate(y):\n",
    "        ary[i, val] = 1\n",
    "\n",
    "    return ary\n",
    "\n",
    "\n",
    "class NeuralNetMLP:\n",
    "\n",
    "    def __init__(self, num_features, num_hidden1, num_hidden2, num_classes, random_seed=123):\n",
    "        super().__init__()\n",
    "\n",
    "        self.num_classes = num_classes\n",
    "\n",
    "        # hidden\n",
    "        rng = np.random.RandomState(random_seed)\n",
    "\n",
    "        # First hidden layer\n",
    "        self.weight_h1 = rng.normal(\n",
    "            loc=0.0, scale=0.1, size=(num_hidden1, num_features))\n",
    "        self.bias_h1 = np.zeros(num_hidden1)\n",
    "\n",
    "        # Second hidden layer\n",
    "        self.weight_h2 = rng.normal(\n",
    "            loc=0.0, scale=0.1, size=(num_hidden2, num_hidden1))\n",
    "        self.bias_h2 = np.zeros(num_hidden2)\n",
    "\n",
    "        # Output layer\n",
    "        self.weight_out = rng.normal(\n",
    "            loc=0.0, scale=0.1, size=(num_classes, num_hidden2))\n",
    "        self.bias_out = np.zeros(num_classes)\n",
    "\n",
    "    def forward(self, x):\n",
    "        # First hidden layer\n",
    "        z_h1 = np.dot(x, self.weight_h1.T) + self.bias_h1\n",
    "        a_h1 = sigmoid(z_h1)\n",
    "\n",
    "        # Second hidden layer\n",
    "        z_h2 = np.dot(a_h1, self.weight_h2.T) + self.bias_h2\n",
    "        a_h2 = sigmoid(z_h2)\n",
    "\n",
    "        # Output layer\n",
    "        z_out = np.dot(a_h2, self.weight_out.T) + self.bias_out\n",
    "        a_out = sigmoid(z_out)\n",
    "        return a_h1, a_h2, a_out\n",
    "\n",
    "    def backward(self, x, a_h1, a_h2, a_out, y):\n",
    "        # One-hot encoding\n",
    "        y_onehot = int_to_onehot(y, self.num_classes)\n",
    "\n",
    "        #########################\n",
    "        ### Output layer weights\n",
    "        #########################\n",
    "\n",
    "        d_loss__d_a_out = 2. * (a_out - y_onehot) / y.shape[0]\n",
    "        d_a_out__d_z_out = a_out * (1. - a_out)  # sigmoid derivative\n",
    "        delta_out = d_loss__d_a_out * d_a_out__d_z_out\n",
    "\n",
    "        d_z_out__dw_out = a_h2\n",
    "        d_loss__dw_out = np.dot(delta_out.T, d_z_out__dw_out)\n",
    "        d_loss__db_out = np.sum(delta_out, axis=0)\n",
    "\n",
    "        #################################\n",
    "        ### Second hidden layer weights\n",
    "        #################################\n",
    "\n",
    "        d_z_out__a_h2 = self.weight_out\n",
    "        d_loss__a_h2 = np.dot(delta_out, d_z_out__a_h2)\n",
    "        d_a_h2__d_z_h2 = a_h2 * (1. - a_h2)\n",
    "        delta_h2 = d_loss__a_h2 * d_a_h2__d_z_h2\n",
    "\n",
    "        d_z_h2__d_w_h2 = a_h1\n",
    "        d_loss__d_w_h2 = np.dot(delta_h2.T, d_z_h2__d_w_h2)\n",
    "        d_loss__d_b_h2 = np.sum(delta_h2, axis=0)\n",
    "\n",
    "        #################################\n",
    "        ### First hidden layer weights\n",
    "        #################################\n",
    "\n",
    "        d_z_h2__a_h1 = self.weight_h2\n",
    "        d_loss__a_h1 = np.dot(delta_h2, d_z_h2__a_h1)\n",
    "        d_a_h1__d_z_h1 = a_h1 * (1. - a_h1)\n",
    "        delta_h1 = d_loss__a_h1 * d_a_h1__d_z_h1\n",
    "\n",
    "        d_z_h1__d_w_h1 = x\n",
    "        d_loss__d_w_h1 = np.dot(delta_h1.T, d_z_h1__d_w_h1)\n",
    "        d_loss__d_b_h1 = np.sum(delta_h1, axis=0)\n",
    "\n",
    "        return (d_loss__dw_out, d_loss__db_out,\n",
    "                d_loss__d_w_h2, d_loss__d_b_h2,\n",
    "                d_loss__d_w_h1, d_loss__d_b_h1)\n",
    "\n",
    "\n"
   ],
   "outputs": [],
   "execution_count": 12
  },
  {
   "metadata": {
    "ExecuteTime": {
     "end_time": "2025-01-09T10:30:55.001696Z",
     "start_time": "2025-01-09T10:30:54.997757Z"
    }
   },
   "cell_type": "code",
   "source": [
    "def minibatch_generator(X, y, minibatch_size):\n",
    "    indices = np.arange(X.shape[0])\n",
    "    np.random.shuffle(indices)\n",
    "\n",
    "    for start_idx in range(0, indices.shape[0] - minibatch_size\n",
    "                              + 1, minibatch_size):\n",
    "        batch_idx = indices[start_idx:start_idx + minibatch_size]\n",
    "\n",
    "        yield X[batch_idx], y[batch_idx]"
   ],
   "outputs": [],
   "execution_count": 13
  },
  {
   "metadata": {
    "ExecuteTime": {
     "end_time": "2025-01-09T10:32:51.702491Z",
     "start_time": "2025-01-09T10:32:51.697493Z"
    }
   },
   "cell_type": "code",
   "source": [
    "def compute_mse_acc_auc(nnet, X, y, num_labels=10, minibatch_size=100):\n",
    "    mse, correct_pred, num_examples = 0., 0, 0\n",
    "    all_targets = []\n",
    "    all_probas = []\n",
    "    minibatch_gen = minibatch_generator(X, y, minibatch_size)\n",
    "\n",
    "    for i, (features, targets) in enumerate(minibatch_gen):\n",
    "        _, _, probas = nnet.forward(features)\n",
    "        predicted_labels = np.argmax(probas, axis=1)\n",
    "\n",
    "        onehot_targets = int_to_onehot(targets, num_labels=num_labels)\n",
    "        loss = np.mean((onehot_targets - probas) ** 2)\n",
    "        correct_pred += (predicted_labels == targets).sum()\n",
    "\n",
    "        num_examples += targets.shape[0]\n",
    "        mse += loss\n",
    "\n",
    "        all_targets.append(onehot_targets)\n",
    "        all_probas.append(probas)\n",
    "\n",
    "    # Concatenate all minibatch results\n",
    "    all_targets = np.vstack(all_targets)\n",
    "    all_probas = np.vstack(all_probas)\n",
    "\n",
    "    # Compute macro AUC\n",
    "    macro_auc = 0\n",
    "    for i in range(num_labels):\n",
    "        macro_auc += roc_auc_score(all_targets[:, i], all_probas[:, i])\n",
    "    macro_auc /= num_labels\n",
    "\n",
    "    mse = mse / (i + 1)\n",
    "    acc = correct_pred / num_examples\n",
    "    return mse, acc, macro_auc"
   ],
   "outputs": [],
   "execution_count": 17
  },
  {
   "cell_type": "code",
   "metadata": {
    "ExecuteTime": {
     "end_time": "2025-01-09T10:32:52.018464Z",
     "start_time": "2025-01-09T10:32:52.014221Z"
    }
   },
   "source": [
    "def train(model, X_train, y_train, X_valid, y_valid, num_epochs, minibatch_size=100, learning_rate=0.1):\n",
    "    epoch_loss = []\n",
    "    epoch_train_acc = []\n",
    "    epoch_valid_acc = []\n",
    "    epoch_train_auc = []\n",
    "    epoch_valid_auc = []\n",
    "\n",
    "    for e in range(num_epochs):\n",
    "\n",
    "        # Iterate over minibatches\n",
    "        minibatch_gen = minibatch_generator(X_train, y_train, minibatch_size)\n",
    "\n",
    "        for X_train_mini, y_train_mini in minibatch_gen:\n",
    "            #### Compute outputs ####\n",
    "            a_h1, a_h2, a_out = model.forward(X_train_mini)\n",
    "\n",
    "            #### Compute gradients ####\n",
    "            (d_loss__dw_out, d_loss__db_out,\n",
    "             d_loss__d_w_h2, d_loss__d_b_h2,\n",
    "             d_loss__d_w_h1, d_loss__d_b_h1) = model.backward(X_train_mini, a_h1, a_h2, a_out, y_train_mini)\n",
    "\n",
    "            #### Update weights ####\n",
    "            model.weight_out -= learning_rate * d_loss__dw_out\n",
    "            model.bias_out -= learning_rate * d_loss__db_out\n",
    "            model.weight_h2 -= learning_rate * d_loss__d_w_h2\n",
    "            model.bias_h2 -= learning_rate * d_loss__d_b_h2\n",
    "            model.weight_h1 -= learning_rate * d_loss__d_w_h1\n",
    "            model.bias_h1 -= learning_rate * d_loss__d_b_h1\n",
    "\n",
    "        train_mse, train_acc, train_auc = compute_mse_acc_auc(model, X_train, y_train)\n",
    "        valid_mse, valid_acc, valid_auc = compute_mse_acc_auc(model, X_valid, y_valid)\n",
    "        train_acc, valid_acc = train_acc * 100, valid_acc * 100\n",
    "        epoch_train_acc.append(train_acc)\n",
    "        epoch_valid_acc.append(valid_acc)\n",
    "        epoch_train_auc.append(train_auc)\n",
    "        epoch_valid_auc.append(valid_auc)\n",
    "        epoch_loss.append(train_mse)\n",
    "        print(f'Epoch: {e + 1:03d}/{num_epochs:03d} '\n",
    "              f'| Train MSE: {train_mse:.6f} '\n",
    "              f'| Train Acc: {train_acc:.6f}% '\n",
    "              f'| Valid Acc: {valid_acc:.6f}%'\n",
    "              f'| Train Auc: {train_auc:.6f}'\n",
    "              f'| Valid Auc: {valid_auc:.6f}')\n",
    "\n",
    "    return epoch_loss, epoch_train_acc, epoch_valid_acc, epoch_train_auc, epoch_valid_auc"
   ],
   "outputs": [],
   "execution_count": 18
  },
  {
   "cell_type": "code",
   "metadata": {
    "ExecuteTime": {
     "end_time": "2025-01-09T10:33:12.539730Z",
     "start_time": "2025-01-09T10:32:52.529736Z"
    }
   },
   "source": [
    "num_epochs = 50\n",
    "minibatch_size = 100\n",
    "learning_rate = 0.1\n",
    "\n",
    "model = NeuralNetMLP(num_features=28 * 28,\n",
    "                     num_hidden1=50,\n",
    "                     num_hidden2=50,\n",
    "                     num_classes=10)\n",
    "\n",
    "epoch_loss, epoch_train_acc, epoch_valid_acc, epoch_train_auc, epoch_valid_auc = train(model, X_train, y_train, X_valid,\n",
    "                                                                                       y_valid,\n",
    "                                                                                       minibatch_size=minibatch_size,\n",
    "                                                                                       num_epochs=num_epochs,\n",
    "                                                                                       learning_rate=learning_rate)"
   ],
   "outputs": [
    {
     "name": "stdout",
     "output_type": "stream",
     "text": [
      "Epoch: 001/050 | Train MSE: 3.501899 | Train Acc: 15.645408% | Valid Acc: 15.673469%| Train Auc: 0.759142| Valid Auc: 0.760376\n",
      "Epoch: 002/050 | Train MSE: 3.457234 | Train Acc: 27.604592% | Valid Acc: 27.877551%| Train Auc: 0.858279| Valid Auc: 0.860366\n",
      "Epoch: 003/050 | Train MSE: 3.313467 | Train Acc: 28.806122% | Valid Acc: 28.755102%| Train Auc: 0.885285| Valid Auc: 0.887428\n",
      "Epoch: 004/050 | Train MSE: 2.933904 | Train Acc: 40.308673% | Valid Acc: 40.204082%| Train Auc: 0.890270| Valid Auc: 0.892387\n",
      "Epoch: 005/050 | Train MSE: 2.548985 | Train Acc: 55.561224% | Valid Acc: 55.714286%| Train Auc: 0.911840| Valid Auc: 0.914249\n",
      "Epoch: 006/050 | Train MSE: 2.128958 | Train Acc: 67.709184% | Valid Acc: 68.153061%| Train Auc: 0.931970| Valid Auc: 0.933593\n",
      "Epoch: 007/050 | Train MSE: 1.789704 | Train Acc: 74.076531% | Valid Acc: 74.214286%| Train Auc: 0.944392| Valid Auc: 0.945682\n",
      "Epoch: 008/050 | Train MSE: 1.528018 | Train Acc: 80.744898% | Valid Acc: 81.438776%| Train Auc: 0.956998| Valid Auc: 0.957960\n",
      "Epoch: 009/050 | Train MSE: 1.302726 | Train Acc: 84.362245% | Valid Acc: 84.663265%| Train Auc: 0.966751| Valid Auc: 0.967374\n",
      "Epoch: 010/050 | Train MSE: 1.119387 | Train Acc: 86.591837% | Valid Acc: 86.704082%| Train Auc: 0.972981| Valid Auc: 0.973358\n",
      "Epoch: 011/050 | Train MSE: 0.984921 | Train Acc: 87.704082% | Valid Acc: 87.734694%| Train Auc: 0.976347| Valid Auc: 0.976700\n",
      "Epoch: 012/050 | Train MSE: 0.892132 | Train Acc: 88.385204% | Valid Acc: 88.183673%| Train Auc: 0.978783| Valid Auc: 0.979054\n",
      "Epoch: 013/050 | Train MSE: 0.827130 | Train Acc: 88.938776% | Valid Acc: 88.826531%| Train Auc: 0.980326| Valid Auc: 0.980582\n",
      "Epoch: 014/050 | Train MSE: 0.771656 | Train Acc: 89.494898% | Valid Acc: 89.469388%| Train Auc: 0.981807| Valid Auc: 0.982039\n",
      "Epoch: 015/050 | Train MSE: 0.728121 | Train Acc: 89.882653% | Valid Acc: 89.673469%| Train Auc: 0.982889| Valid Auc: 0.983087\n",
      "Epoch: 016/050 | Train MSE: 0.695813 | Train Acc: 90.117347% | Valid Acc: 89.918367%| Train Auc: 0.983671| Valid Auc: 0.983836\n",
      "Epoch: 017/050 | Train MSE: 0.665129 | Train Acc: 90.517857% | Valid Acc: 90.326531%| Train Auc: 0.984420| Valid Auc: 0.984495\n",
      "Epoch: 018/050 | Train MSE: 0.646987 | Train Acc: 90.760204% | Valid Acc: 90.418367%| Train Auc: 0.985045| Valid Auc: 0.985070\n",
      "Epoch: 019/050 | Train MSE: 0.620267 | Train Acc: 91.058673% | Valid Acc: 90.673469%| Train Auc: 0.985546| Valid Auc: 0.985549\n",
      "Epoch: 020/050 | Train MSE: 0.600172 | Train Acc: 91.293367% | Valid Acc: 90.908163%| Train Auc: 0.986044| Valid Auc: 0.986003\n",
      "Epoch: 021/050 | Train MSE: 0.583262 | Train Acc: 91.525510% | Valid Acc: 91.163265%| Train Auc: 0.986538| Valid Auc: 0.986468\n",
      "Epoch: 022/050 | Train MSE: 0.568185 | Train Acc: 91.757653% | Valid Acc: 91.316327%| Train Auc: 0.986983| Valid Auc: 0.986847\n",
      "Epoch: 023/050 | Train MSE: 0.551982 | Train Acc: 91.872449% | Valid Acc: 91.459184%| Train Auc: 0.987280| Valid Auc: 0.987155\n",
      "Epoch: 024/050 | Train MSE: 0.540089 | Train Acc: 92.033163% | Valid Acc: 91.551020%| Train Auc: 0.987746| Valid Auc: 0.987538\n",
      "Epoch: 025/050 | Train MSE: 0.526464 | Train Acc: 92.275510% | Valid Acc: 91.785714%| Train Auc: 0.988086| Valid Auc: 0.987819\n",
      "Epoch: 026/050 | Train MSE: 0.512451 | Train Acc: 92.459184% | Valid Acc: 91.928571%| Train Auc: 0.988398| Valid Auc: 0.988117\n",
      "Epoch: 027/050 | Train MSE: 0.501883 | Train Acc: 92.602041% | Valid Acc: 92.102041%| Train Auc: 0.988615| Valid Auc: 0.988326\n",
      "Epoch: 028/050 | Train MSE: 0.490853 | Train Acc: 92.811224% | Valid Acc: 92.234694%| Train Auc: 0.989014| Valid Auc: 0.988663\n",
      "Epoch: 029/050 | Train MSE: 0.483017 | Train Acc: 92.839286% | Valid Acc: 92.459184%| Train Auc: 0.989186| Valid Auc: 0.988848\n",
      "Epoch: 030/050 | Train MSE: 0.472246 | Train Acc: 93.104592% | Valid Acc: 92.602041%| Train Auc: 0.989540| Valid Auc: 0.989132\n",
      "Epoch: 031/050 | Train MSE: 0.465807 | Train Acc: 93.104592% | Valid Acc: 92.602041%| Train Auc: 0.989712| Valid Auc: 0.989313\n",
      "Epoch: 032/050 | Train MSE: 0.456107 | Train Acc: 93.301020% | Valid Acc: 92.755102%| Train Auc: 0.989893| Valid Auc: 0.989481\n",
      "Epoch: 033/050 | Train MSE: 0.446101 | Train Acc: 93.459184% | Valid Acc: 92.969388%| Train Auc: 0.990236| Valid Auc: 0.989839\n",
      "Epoch: 034/050 | Train MSE: 0.438176 | Train Acc: 93.607143% | Valid Acc: 92.938776%| Train Auc: 0.990402| Valid Auc: 0.990011\n",
      "Epoch: 035/050 | Train MSE: 0.433452 | Train Acc: 93.576531% | Valid Acc: 92.877551%| Train Auc: 0.990585| Valid Auc: 0.990266\n",
      "Epoch: 036/050 | Train MSE: 0.423034 | Train Acc: 93.816327% | Valid Acc: 93.173469%| Train Auc: 0.990770| Valid Auc: 0.990435\n",
      "Epoch: 037/050 | Train MSE: 0.416964 | Train Acc: 93.892857% | Valid Acc: 93.295918%| Train Auc: 0.991099| Valid Auc: 0.990743\n",
      "Epoch: 038/050 | Train MSE: 0.411820 | Train Acc: 93.931122% | Valid Acc: 93.336735%| Train Auc: 0.991221| Valid Auc: 0.990896\n",
      "Epoch: 039/050 | Train MSE: 0.402874 | Train Acc: 94.084184% | Valid Acc: 93.428571%| Train Auc: 0.991413| Valid Auc: 0.991067\n",
      "Epoch: 040/050 | Train MSE: 0.397781 | Train Acc: 94.145408% | Valid Acc: 93.561224%| Train Auc: 0.991604| Valid Auc: 0.991252\n",
      "Epoch: 041/050 | Train MSE: 0.390390 | Train Acc: 94.262755% | Valid Acc: 93.571429%| Train Auc: 0.991734| Valid Auc: 0.991401\n",
      "Epoch: 042/050 | Train MSE: 0.385005 | Train Acc: 94.382653% | Valid Acc: 93.653061%| Train Auc: 0.991820| Valid Auc: 0.991491\n",
      "Epoch: 043/050 | Train MSE: 0.378797 | Train Acc: 94.420918% | Valid Acc: 93.806122%| Train Auc: 0.992038| Valid Auc: 0.991696\n",
      "Epoch: 044/050 | Train MSE: 0.373252 | Train Acc: 94.576531% | Valid Acc: 93.795918%| Train Auc: 0.992201| Valid Auc: 0.991869\n",
      "Epoch: 045/050 | Train MSE: 0.369447 | Train Acc: 94.637755% | Valid Acc: 93.836735%| Train Auc: 0.992309| Valid Auc: 0.991976\n",
      "Epoch: 046/050 | Train MSE: 0.363231 | Train Acc: 94.701531% | Valid Acc: 93.938776%| Train Auc: 0.992457| Valid Auc: 0.992161\n",
      "Epoch: 047/050 | Train MSE: 0.358790 | Train Acc: 94.793367% | Valid Acc: 94.000000%| Train Auc: 0.992574| Valid Auc: 0.992271\n",
      "Epoch: 048/050 | Train MSE: 0.353686 | Train Acc: 94.908163% | Valid Acc: 94.071429%| Train Auc: 0.992741| Valid Auc: 0.992437\n",
      "Epoch: 049/050 | Train MSE: 0.351080 | Train Acc: 94.913265% | Valid Acc: 94.153061%| Train Auc: 0.992876| Valid Auc: 0.992529\n",
      "Epoch: 050/050 | Train MSE: 0.344873 | Train Acc: 95.056122% | Valid Acc: 94.275510%| Train Auc: 0.992990| Valid Auc: 0.992706\n"
     ]
    }
   ],
   "execution_count": 19
  },
  {
   "cell_type": "markdown",
   "metadata": {},
   "source": [
    "## Evaluating the neural network performance"
   ]
  },
  {
   "cell_type": "code",
   "metadata": {
    "ExecuteTime": {
     "end_time": "2025-01-09T10:34:26.530892Z",
     "start_time": "2025-01-09T10:34:26.201917Z"
    }
   },
   "source": [
    "plt.plot(range(len(epoch_loss)), epoch_loss)\n",
    "plt.ylabel('Mean squared error')\n",
    "plt.xlabel('Epoch')\n",
    "plt.show()"
   ],
   "outputs": [
    {
     "data": {
      "text/plain": [
       "<Figure size 640x480 with 1 Axes>"
      ],
      "image/png": "[encoded data removed]"
     },
     "metadata": {},
     "output_type": "display_data"
    }
   ],
   "execution_count": 20
  },
  {
   "cell_type": "code",
   "metadata": {
    "ExecuteTime": {
     "end_time": "2025-01-09T10:34:28.733572Z",
     "start_time": "2025-01-09T10:34:28.680580Z"
    }
   },
   "source": [
    "plt.plot(range(len(epoch_train_acc)), epoch_train_acc,\n",
    "         label='Training')\n",
    "plt.plot(range(len(epoch_valid_acc)), epoch_valid_acc,\n",
    "         label='Validation')\n",
    "plt.ylabel('Accuracy')\n",
    "plt.xlabel('Epochs')\n",
    "plt.legend(loc='lower right')\n",
    "plt.show()"
   ],
   "outputs": [
    {
     "data": {
      "text/plain": [
       "<Figure size 640x480 with 1 Axes>"
      ],
      "image/png": "[encoded data removed]"
     },
     "metadata": {},
     "output_type": "display_data"
    }
   ],
   "execution_count": 21
  },
  {
   "metadata": {
    "ExecuteTime": {
     "end_time": "2025-01-09T10:34:31.217829Z",
     "start_time": "2025-01-09T10:34:31.164467Z"
    }
   },
   "cell_type": "code",
   "source": [
    "plt.plot(range(len(epoch_train_auc)), epoch_valid_auc,\n",
    "         label='Training')\n",
    "plt.plot(range(len(epoch_valid_auc)), epoch_valid_auc,\n",
    "         label='Validation')\n",
    "plt.ylabel('Macro AUC')\n",
    "plt.xlabel('Epochs')\n",
    "plt.legend(loc='lower right')\n",
    "plt.show()"
   ],
   "outputs": [
    {
     "data": {
      "text/plain": [
       "<Figure size 640x480 with 1 Axes>"
      ],
      "image/png": "[encoded data removed]"
     },
     "metadata": {},
     "output_type": "display_data"
    }
   ],
   "execution_count": 22
  },
  {
   "cell_type": "code",
   "metadata": {
    "ExecuteTime": {
     "end_time": "2025-01-09T10:34:45.198077Z",
     "start_time": "2025-01-09T10:34:45.098719Z"
    }
   },
   "source": [
    "test_mse, test_acc, test_auc = compute_mse_acc_auc(model, X_test, y_test)\n",
    "print(f'Test MSE: {test_mse:.6f}')\n",
    "print(f'Test accuracy: {test_acc * 100:.6f}%')\n",
    "print(f'Test auc: {test_auc:.6f}%')"
   ],
   "outputs": [
    {
     "name": "stdout",
     "output_type": "stream",
     "text": [
      "Test MSE: 0.209690\n",
      "Test accuracy: 94.076190%\n",
      "Test auc: 0.992058%\n"
     ]
    }
   ],
   "execution_count": 24
  }
 ],
 "metadata": {
  "anaconda-cloud": {},
  "kernelspec": {
   "display_name": "Python 3 (ipykernel)",
   "language": "python",
   "name": "python3"
  },
  "language_info": {
   "codemirror_mode": {
    "name": "ipython",
    "version": 3
   },
   "file_extension": ".py",
   "mimetype": "text/x-python",
   "name": "python",
   "nbconvert_exporter": "python",
   "pygments_lexer": "ipython3",
   "version": "3.10.6"
  }
 },
 "nbformat": 4,
 "nbformat_minor": 4
}
