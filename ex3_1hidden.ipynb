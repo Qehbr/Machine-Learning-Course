{
 "cells": [
  {
   "metadata": {
    "ExecuteTime": {
     "end_time": "2025-01-09T10:25:45.355615Z",
     "start_time": "2025-01-09T10:25:42.087535Z"
    }
   },
   "cell_type": "code",
   "source": [
    "from sklearn.datasets import fetch_openml\n",
    "from sklearn.metrics import roc_auc_score\n",
    "from sklearn.model_selection import train_test_split\n",
    "import matplotlib.pyplot as plt\n",
    "import numpy as np"
   ],
   "outputs": [
    {
     "ename": "ModuleNotFoundError",
     "evalue": "No module named 'matplotlib'",
     "output_type": "error",
     "traceback": [
      "\u001B[1;31m---------------------------------------------------------------------------\u001B[0m",
      "\u001B[1;31mModuleNotFoundError\u001B[0m                       Traceback (most recent call last)",
      "Cell \u001B[1;32mIn[1], line 4\u001B[0m\n\u001B[0;32m      2\u001B[0m \u001B[38;5;28;01mfrom\u001B[39;00m \u001B[38;5;21;01msklearn\u001B[39;00m\u001B[38;5;21;01m.\u001B[39;00m\u001B[38;5;21;01mmetrics\u001B[39;00m \u001B[38;5;28;01mimport\u001B[39;00m roc_auc_score\n\u001B[0;32m      3\u001B[0m \u001B[38;5;28;01mfrom\u001B[39;00m \u001B[38;5;21;01msklearn\u001B[39;00m\u001B[38;5;21;01m.\u001B[39;00m\u001B[38;5;21;01mmodel_selection\u001B[39;00m \u001B[38;5;28;01mimport\u001B[39;00m train_test_split\n\u001B[1;32m----> 4\u001B[0m \u001B[38;5;28;01mimport\u001B[39;00m \u001B[38;5;21;01mmatplotlib\u001B[39;00m\u001B[38;5;21;01m.\u001B[39;00m\u001B[38;5;21;01mpyplot\u001B[39;00m \u001B[38;5;28;01mas\u001B[39;00m \u001B[38;5;21;01mplt\u001B[39;00m\n\u001B[0;32m      5\u001B[0m \u001B[38;5;28;01mimport\u001B[39;00m \u001B[38;5;21;01mnumpy\u001B[39;00m \u001B[38;5;28;01mas\u001B[39;00m \u001B[38;5;21;01mnp\u001B[39;00m\n",
      "\u001B[1;31mModuleNotFoundError\u001B[0m: No module named 'matplotlib'"
     ]
    }
   ],
   "execution_count": 1
  },
  {
   "metadata": {
    "ExecuteTime": {
     "end_time": "2025-01-09T10:25:45.417624800Z",
     "start_time": "2024-12-26T18:27:01.327998Z"
    }
   },
   "cell_type": "code",
   "source": [
    "X, y = fetch_openml('mnist_784', version=1, return_X_y=True)\n",
    "X = X.values\n",
    "y = y.astype(int).values\n",
    "X = ((X / 255.) - .5) * 2"
   ],
   "outputs": [
    {
     "name": "stderr",
     "output_type": "stream",
     "text": [
      "C:\\Users\\forgedRice\\anaconda3\\Lib\\site-packages\\sklearn\\datasets\\_openml.py:1002: FutureWarning: The default value of `parser` will change from `'liac-arff'` to `'auto'` in 1.4. You can set `parser='auto'` to silence this warning. Therefore, an `ImportError` will be raised from 1.4 if the dataset is dense and pandas is not installed. Note that the pandas parser may return different data types. See the Notes Section in fetch_openml's API doc for details.\n",
      "  warn(\n"
     ]
    }
   ],
   "execution_count": 28
  },
  {
   "cell_type": "code",
   "metadata": {
    "ExecuteTime": {
     "end_time": "2025-01-09T10:25:45.419624200Z",
     "start_time": "2024-12-26T18:27:16.080103Z"
    }
   },
   "source": [
    "X_temp, X_test, y_temp, y_test = train_test_split(\n",
    "    X, y, test_size=0.3, random_state=123, stratify=y)\n",
    "\n",
    "X_train, X_valid, y_train, y_valid = train_test_split(\n",
    "    X_temp, y_temp, test_size=0.2, random_state=123, stratify=y_temp)"
   ],
   "outputs": [],
   "execution_count": 29
  },
  {
   "cell_type": "code",
   "metadata": {
    "ExecuteTime": {
     "end_time": "2025-01-09T10:25:45.419624200Z",
     "start_time": "2024-12-26T18:27:16.953861Z"
    }
   },
   "source": [
    "##########################\n",
    "### MODEL\n",
    "##########################\n",
    "\n",
    "def sigmoid(z):\n",
    "    return 1. / (1. + np.exp(-z))\n",
    "\n",
    "\n",
    "def int_to_onehot(y, num_labels):\n",
    "    ary = np.zeros((y.shape[0], num_labels))\n",
    "    for i, val in enumerate(y):\n",
    "        ary[i, val] = 1\n",
    "\n",
    "    return ary\n",
    "\n",
    "\n",
    "class NeuralNetMLP:\n",
    "\n",
    "    def __init__(self, num_features, num_hidden, num_classes, random_seed=123):\n",
    "        super().__init__()\n",
    "\n",
    "        self.num_classes = num_classes\n",
    "\n",
    "        # hidden\n",
    "        rng = np.random.RandomState(random_seed)\n",
    "\n",
    "        self.weight_h = rng.normal(\n",
    "            loc=0.0, scale=0.1, size=(num_hidden, num_features))\n",
    "        self.bias_h = np.zeros(num_hidden)\n",
    "\n",
    "        # output\n",
    "        self.weight_out = rng.normal(\n",
    "            loc=0.0, scale=0.1, size=(num_classes, num_hidden))\n",
    "        self.bias_out = np.zeros(num_classes)\n",
    "\n",
    "    def forward(self, x):\n",
    "        # Hidden layer\n",
    "        # input dim: [n_examples, n_features] dot [n_hidden, n_features].T\n",
    "        # output dim: [n_examples, n_hidden]\n",
    "        z_h = np.dot(x, self.weight_h.T) + self.bias_h\n",
    "        a_h = sigmoid(z_h)\n",
    "\n",
    "        # Output layer\n",
    "        # input dim: [n_examples, n_hidden] dot [n_classes, n_hidden].T\n",
    "        # output dim: [n_examples, n_classes]\n",
    "        z_out = np.dot(a_h, self.weight_out.T) + self.bias_out\n",
    "        a_out = sigmoid(z_out)\n",
    "        return a_h, a_out\n",
    "\n",
    "    def backward(self, x, a_h, a_out, y):\n",
    "        #########################\n",
    "        ### Output layer weights\n",
    "        #########################\n",
    "\n",
    "        # onehot encoding\n",
    "        y_onehot = int_to_onehot(y, self.num_classes)\n",
    "\n",
    "        # Part 1: dLoss/dOutWeights\n",
    "        ## = dLoss/dOutAct * dOutAct/dOutNet * dOutNet/dOutWeight\n",
    "        ## where DeltaOut = dLoss/dOutAct * dOutAct/dOutNet\n",
    "        ## for convenient re-use\n",
    "\n",
    "        # input/output dim: [n_examples, n_classes]\n",
    "        d_loss__d_a_out = 2. * (a_out - y_onehot) / y.shape[0]\n",
    "\n",
    "        # input/output dim: [n_examples, n_classes]\n",
    "        d_a_out__d_z_out = a_out * (1. - a_out)  # sigmoid derivative\n",
    "\n",
    "        # output dim: [n_examples, n_classes]\n",
    "        delta_out = d_loss__d_a_out * d_a_out__d_z_out  # \"delta (rule) placeholder\"\n",
    "\n",
    "        # gradient for output weights\n",
    "\n",
    "        # [n_examples, n_hidden]\n",
    "        d_z_out__dw_out = a_h\n",
    "\n",
    "        # input dim: [n_classes, n_examples] dot [n_examples, n_hidden]\n",
    "        # output dim: [n_classes, n_hidden]\n",
    "        d_loss__dw_out = np.dot(delta_out.T, d_z_out__dw_out)\n",
    "        d_loss__db_out = np.sum(delta_out, axis=0)\n",
    "\n",
    "        #################################        \n",
    "        # Part 2: dLoss/dHiddenWeights\n",
    "        ## = DeltaOut * dOutNet/dHiddenAct * dHiddenAct/dHiddenNet * dHiddenNet/dWeight\n",
    "\n",
    "        # [n_classes, n_hidden]\n",
    "        d_z_out__a_h = self.weight_out\n",
    "\n",
    "        # output dim: [n_examples, n_hidden]\n",
    "        d_loss__a_h = np.dot(delta_out, d_z_out__a_h)\n",
    "\n",
    "        # [n_examples, n_hidden]\n",
    "        d_a_h__d_z_h = a_h * (1. - a_h)  # sigmoid derivative\n",
    "\n",
    "        # [n_examples, n_features]\n",
    "        d_z_h__d_w_h = x\n",
    "\n",
    "        # output dim: [n_hidden, n_features]\n",
    "        d_loss__d_w_h = np.dot((d_loss__a_h * d_a_h__d_z_h).T, d_z_h__d_w_h)\n",
    "        d_loss__d_b_h = np.sum((d_loss__a_h * d_a_h__d_z_h), axis=0)\n",
    "\n",
    "        return (d_loss__dw_out, d_loss__db_out,\n",
    "                d_loss__d_w_h, d_loss__d_b_h)\n",
    "\n",
    "\n"
   ],
   "outputs": [],
   "execution_count": 30
  },
  {
   "cell_type": "code",
   "metadata": {
    "ExecuteTime": {
     "end_time": "2025-01-09T10:25:45.421623400Z",
     "start_time": "2024-12-26T18:27:16.965470Z"
    }
   },
   "source": [
    "def minibatch_generator(X, y, minibatch_size):\n",
    "    indices = np.arange(X.shape[0])\n",
    "    np.random.shuffle(indices)\n",
    "\n",
    "    for start_idx in range(0, indices.shape[0] - minibatch_size\n",
    "                              + 1, minibatch_size):\n",
    "        batch_idx = indices[start_idx:start_idx + minibatch_size]\n",
    "\n",
    "        yield X[batch_idx], y[batch_idx]"
   ],
   "outputs": [],
   "execution_count": 31
  },
  {
   "cell_type": "code",
   "metadata": {
    "ExecuteTime": {
     "end_time": "2025-01-09T10:25:45.421623400Z",
     "start_time": "2024-12-26T18:27:16.974486Z"
    }
   },
   "source": [
    "def compute_mse_acc_auc(nnet, X, y, num_labels=10, minibatch_size=100):\n",
    "    mse, correct_pred, num_examples = 0., 0, 0\n",
    "    all_targets = []\n",
    "    all_probas = []\n",
    "    minibatch_gen = minibatch_generator(X, y, minibatch_size)\n",
    "\n",
    "    for i, (features, targets) in enumerate(minibatch_gen):\n",
    "        _, probas = nnet.forward(features)\n",
    "        predicted_labels = np.argmax(probas, axis=1)\n",
    "\n",
    "        onehot_targets = int_to_onehot(targets, num_labels=num_labels)\n",
    "        loss = np.mean((onehot_targets - probas) ** 2)\n",
    "        correct_pred += (predicted_labels == targets).sum()\n",
    "\n",
    "        num_examples += targets.shape[0]\n",
    "        mse += loss\n",
    "\n",
    "        all_targets.append(onehot_targets)\n",
    "        all_probas.append(probas)\n",
    "\n",
    "    # Concatenate all minibatch results\n",
    "    all_targets = np.vstack(all_targets)\n",
    "    all_probas = np.vstack(all_probas)\n",
    "\n",
    "    # Compute macro AUC\n",
    "    macro_auc = 0\n",
    "    for i in range(num_labels):\n",
    "        macro_auc += roc_auc_score(all_targets[:, i], all_probas[:, i])\n",
    "    macro_auc /= num_labels\n",
    "\n",
    "    mse = mse / (i + 1)\n",
    "    acc = correct_pred / num_examples\n",
    "    return mse, acc, macro_auc"
   ],
   "outputs": [],
   "execution_count": 32
  },
  {
   "cell_type": "code",
   "metadata": {
    "ExecuteTime": {
     "end_time": "2025-01-09T10:25:45.421623400Z",
     "start_time": "2024-12-26T18:28:19.630390Z"
    }
   },
   "source": [
    "def train(model, X_train, y_train, X_valid, y_valid, num_epochs, minibatch_size=100, learning_rate=0.1):\n",
    "    epoch_loss = []\n",
    "    epoch_train_acc = []\n",
    "    epoch_valid_acc = []\n",
    "    epoch_train_auc = []\n",
    "    epoch_valid_auc = []\n",
    "\n",
    "    for e in range(num_epochs):\n",
    "\n",
    "        # iterate over minibatches\n",
    "        minibatch_gen = minibatch_generator(\n",
    "            X_train, y_train, minibatch_size)\n",
    "\n",
    "        for X_train_mini, y_train_mini in minibatch_gen:\n",
    "            #### Compute outputs ####\n",
    "            a_h, a_out = model.forward(X_train_mini)\n",
    "\n",
    "            #### Compute gradients ####\n",
    "            d_loss__d_w_out, d_loss__d_b_out, d_loss__d_w_h, d_loss__d_b_h = \\\n",
    "                model.backward(X_train_mini, a_h, a_out, y_train_mini)\n",
    "\n",
    "            #### Update weights ####\n",
    "            model.weight_h -= learning_rate * d_loss__d_w_h\n",
    "            model.bias_h -= learning_rate * d_loss__d_b_h\n",
    "            model.weight_out -= learning_rate * d_loss__d_w_out\n",
    "            model.bias_out -= learning_rate * d_loss__d_b_out\n",
    "\n",
    "        train_mse, train_acc, train_auc = compute_mse_acc_auc(model, X_train, y_train)\n",
    "        valid_mse, valid_acc, valid_auc = compute_mse_acc_auc(model, X_valid, y_valid)\n",
    "        train_acc, valid_acc = train_acc * 100, valid_acc * 100\n",
    "        epoch_train_acc.append(train_acc)\n",
    "        epoch_valid_acc.append(valid_acc)\n",
    "        epoch_train_auc.append(train_auc)\n",
    "        epoch_valid_auc.append(valid_auc)\n",
    "        epoch_loss.append(train_mse)\n",
    "        print(f'Epoch: {e + 1:03d}/{num_epochs:03d} '\n",
    "              f'| Train MSE: {train_mse:.6f} '\n",
    "              f'| Train Acc: {train_acc:.6f}% '\n",
    "              f'| Valid Acc: {valid_acc:.6f}%'\n",
    "              f'| Train Auc: {train_auc:.6f}'\n",
    "              f'| Valid Auc: {valid_auc:.6f}')\n",
    "\n",
    "    return epoch_loss, epoch_train_acc, epoch_valid_acc, epoch_train_auc, epoch_valid_auc"
   ],
   "outputs": [],
   "execution_count": 37
  },
  {
   "cell_type": "code",
   "metadata": {
    "ExecuteTime": {
     "end_time": "2025-01-09T10:25:45.441624500Z",
     "start_time": "2024-12-26T18:28:22.760354Z"
    }
   },
   "source": [
    "num_epochs = 50\n",
    "minibatch_size = 100\n",
    "learning_rate = 0.1\n",
    "\n",
    "model = NeuralNetMLP(num_features=28 * 28,\n",
    "                     num_hidden=50,\n",
    "                     num_classes=10)\n",
    "\n",
    "epoch_loss, epoch_train_acc, epoch_valid_acc, epoch_train_auc, epoch_valid_auc = train(model, X_train, y_train, X_valid,\n",
    "                                                                                       y_valid,\n",
    "                                                                                       minibatch_size=minibatch_size,\n",
    "                                                                                       num_epochs=num_epochs,\n",
    "                                                                                       learning_rate=learning_rate)"
   ],
   "outputs": [
    {
     "name": "stdout",
     "output_type": "stream",
     "text": [
      "Epoch: 001/050 | Train MSE: 2.430580 | Train Acc: 69.831633% | Valid Acc: 70.255102%| Train Auc: 0.937289| Valid Auc: 0.937782\n",
      "Epoch: 002/050 | Train MSE: 1.529534 | Train Acc: 81.959184% | Valid Acc: 82.173469%| Train Auc: 0.962061| Valid Auc: 0.961679\n",
      "Epoch: 003/050 | Train MSE: 1.166918 | Train Acc: 85.698980% | Valid Acc: 85.571429%| Train Auc: 0.972394| Valid Auc: 0.971803\n",
      "Epoch: 004/050 | Train MSE: 0.976687 | Train Acc: 87.632653% | Valid Acc: 87.489796%| Train Auc: 0.977853| Valid Auc: 0.977366\n",
      "Epoch: 005/050 | Train MSE: 0.864973 | Train Acc: 88.793367% | Valid Acc: 88.581633%| Train Auc: 0.981023| Valid Auc: 0.980734\n",
      "Epoch: 006/050 | Train MSE: 0.788252 | Train Acc: 89.650510% | Valid Acc: 89.469388%| Train Auc: 0.982906| Valid Auc: 0.982724\n",
      "Epoch: 007/050 | Train MSE: 0.735702 | Train Acc: 90.201531% | Valid Acc: 89.918367%| Train Auc: 0.984134| Valid Auc: 0.984024\n",
      "Epoch: 008/050 | Train MSE: 0.692328 | Train Acc: 90.591837% | Valid Acc: 90.459184%| Train Auc: 0.985027| Valid Auc: 0.984946\n",
      "Epoch: 009/050 | Train MSE: 0.660202 | Train Acc: 90.913265% | Valid Acc: 90.663265%| Train Auc: 0.985832| Valid Auc: 0.985739\n",
      "Epoch: 010/050 | Train MSE: 0.635422 | Train Acc: 91.227041% | Valid Acc: 90.989796%| Train Auc: 0.986440| Valid Auc: 0.986342\n",
      "Epoch: 011/050 | Train MSE: 0.609763 | Train Acc: 91.428571% | Valid Acc: 91.193878%| Train Auc: 0.986952| Valid Auc: 0.986814\n",
      "Epoch: 012/050 | Train MSE: 0.592801 | Train Acc: 91.586735% | Valid Acc: 91.418367%| Train Auc: 0.987217| Valid Auc: 0.987128\n",
      "Epoch: 013/050 | Train MSE: 0.576171 | Train Acc: 91.747449% | Valid Acc: 91.581633%| Train Auc: 0.987712| Valid Auc: 0.987618\n",
      "Epoch: 014/050 | Train MSE: 0.558923 | Train Acc: 92.058673% | Valid Acc: 91.826531%| Train Auc: 0.987903| Valid Auc: 0.987758\n",
      "Epoch: 015/050 | Train MSE: 0.545820 | Train Acc: 92.234694% | Valid Acc: 91.979592%| Train Auc: 0.988283| Valid Auc: 0.988112\n",
      "Epoch: 016/050 | Train MSE: 0.531970 | Train Acc: 92.392857% | Valid Acc: 92.142857%| Train Auc: 0.988546| Valid Auc: 0.988375\n",
      "Epoch: 017/050 | Train MSE: 0.521909 | Train Acc: 92.494898% | Valid Acc: 92.244898%| Train Auc: 0.988815| Valid Auc: 0.988629\n",
      "Epoch: 018/050 | Train MSE: 0.513761 | Train Acc: 92.581633% | Valid Acc: 92.316327%| Train Auc: 0.989051| Valid Auc: 0.988911\n",
      "Epoch: 019/050 | Train MSE: 0.499719 | Train Acc: 92.806122% | Valid Acc: 92.540816%| Train Auc: 0.989250| Valid Auc: 0.989050\n",
      "Epoch: 020/050 | Train MSE: 0.490699 | Train Acc: 92.920918% | Valid Acc: 92.602041%| Train Auc: 0.989473| Valid Auc: 0.989258\n",
      "Epoch: 021/050 | Train MSE: 0.484300 | Train Acc: 93.010204% | Valid Acc: 92.806122%| Train Auc: 0.989589| Valid Auc: 0.989433\n",
      "Epoch: 022/050 | Train MSE: 0.475829 | Train Acc: 93.084184% | Valid Acc: 92.816327%| Train Auc: 0.989789| Valid Auc: 0.989560\n",
      "Epoch: 023/050 | Train MSE: 0.467531 | Train Acc: 93.275510% | Valid Acc: 92.948980%| Train Auc: 0.989952| Valid Auc: 0.989759\n",
      "Epoch: 024/050 | Train MSE: 0.460489 | Train Acc: 93.390306% | Valid Acc: 93.061224%| Train Auc: 0.990115| Valid Auc: 0.989906\n",
      "Epoch: 025/050 | Train MSE: 0.455603 | Train Acc: 93.364796% | Valid Acc: 93.000000%| Train Auc: 0.990238| Valid Auc: 0.990010\n",
      "Epoch: 026/050 | Train MSE: 0.448565 | Train Acc: 93.500000% | Valid Acc: 93.306122%| Train Auc: 0.990420| Valid Auc: 0.990233\n",
      "Epoch: 027/050 | Train MSE: 0.442842 | Train Acc: 93.581633% | Valid Acc: 93.326531%| Train Auc: 0.990547| Valid Auc: 0.990349\n",
      "Epoch: 028/050 | Train MSE: 0.439017 | Train Acc: 93.612245% | Valid Acc: 93.255102%| Train Auc: 0.990606| Valid Auc: 0.990374\n",
      "Epoch: 029/050 | Train MSE: 0.432279 | Train Acc: 93.775510% | Valid Acc: 93.469388%| Train Auc: 0.990737| Valid Auc: 0.990536\n",
      "Epoch: 030/050 | Train MSE: 0.424378 | Train Acc: 93.892857% | Valid Acc: 93.469388%| Train Auc: 0.990930| Valid Auc: 0.990707\n",
      "Epoch: 031/050 | Train MSE: 0.422506 | Train Acc: 93.836735% | Valid Acc: 93.469388%| Train Auc: 0.991013| Valid Auc: 0.990826\n",
      "Epoch: 032/050 | Train MSE: 0.418554 | Train Acc: 93.956633% | Valid Acc: 93.520408%| Train Auc: 0.991109| Valid Auc: 0.990909\n",
      "Epoch: 033/050 | Train MSE: 0.410619 | Train Acc: 94.028061% | Valid Acc: 93.693878%| Train Auc: 0.991250| Valid Auc: 0.991024\n",
      "Epoch: 034/050 | Train MSE: 0.406195 | Train Acc: 94.147959% | Valid Acc: 93.755102%| Train Auc: 0.991343| Valid Auc: 0.991142\n",
      "Epoch: 035/050 | Train MSE: 0.404464 | Train Acc: 94.163265% | Valid Acc: 93.642857%| Train Auc: 0.991419| Valid Auc: 0.991233\n",
      "Epoch: 036/050 | Train MSE: 0.397918 | Train Acc: 94.242347% | Valid Acc: 93.744898%| Train Auc: 0.991565| Valid Auc: 0.991348\n",
      "Epoch: 037/050 | Train MSE: 0.395958 | Train Acc: 94.306122% | Valid Acc: 93.826531%| Train Auc: 0.991625| Valid Auc: 0.991413\n",
      "Epoch: 038/050 | Train MSE: 0.389806 | Train Acc: 94.385204% | Valid Acc: 93.877551%| Train Auc: 0.991734| Valid Auc: 0.991488\n",
      "Epoch: 039/050 | Train MSE: 0.387836 | Train Acc: 94.354592% | Valid Acc: 93.846939%| Train Auc: 0.991792| Valid Auc: 0.991549\n",
      "Epoch: 040/050 | Train MSE: 0.384674 | Train Acc: 94.441327% | Valid Acc: 94.112245%| Train Auc: 0.991879| Valid Auc: 0.991627\n",
      "Epoch: 041/050 | Train MSE: 0.379453 | Train Acc: 94.540816% | Valid Acc: 94.000000%| Train Auc: 0.991981| Valid Auc: 0.991759\n",
      "Epoch: 042/050 | Train MSE: 0.378009 | Train Acc: 94.528061% | Valid Acc: 94.122449%| Train Auc: 0.992065| Valid Auc: 0.991834\n",
      "Epoch: 043/050 | Train MSE: 0.372814 | Train Acc: 94.586735% | Valid Acc: 94.040816%| Train Auc: 0.992061| Valid Auc: 0.991771\n",
      "Epoch: 044/050 | Train MSE: 0.368509 | Train Acc: 94.622449% | Valid Acc: 94.183673%| Train Auc: 0.992260| Valid Auc: 0.991990\n",
      "Epoch: 045/050 | Train MSE: 0.364787 | Train Acc: 94.783163% | Valid Acc: 94.193878%| Train Auc: 0.992359| Valid Auc: 0.992119\n",
      "Epoch: 046/050 | Train MSE: 0.361570 | Train Acc: 94.829082% | Valid Acc: 94.244898%| Train Auc: 0.992381| Valid Auc: 0.992132\n",
      "Epoch: 047/050 | Train MSE: 0.361253 | Train Acc: 94.836735% | Valid Acc: 94.193878%| Train Auc: 0.992455| Valid Auc: 0.992216\n",
      "Epoch: 048/050 | Train MSE: 0.355765 | Train Acc: 94.931122% | Valid Acc: 94.377551%| Train Auc: 0.992532| Valid Auc: 0.992284\n",
      "Epoch: 049/050 | Train MSE: 0.353480 | Train Acc: 94.943878% | Valid Acc: 94.295918%| Train Auc: 0.992562| Valid Auc: 0.992308\n",
      "Epoch: 050/050 | Train MSE: 0.350697 | Train Acc: 95.056122% | Valid Acc: 94.357143%| Train Auc: 0.992716| Valid Auc: 0.992463\n"
     ]
    }
   ],
   "execution_count": 38
  },
  {
   "cell_type": "markdown",
   "metadata": {},
   "source": [
    "## Evaluating the neural network performance"
   ]
  },
  {
   "cell_type": "code",
   "metadata": {
    "ExecuteTime": {
     "end_time": "2025-01-09T10:25:45.443623800Z",
     "start_time": "2024-12-26T18:22:58.574906Z"
    }
   },
   "source": [
    "plt.plot(range(len(epoch_loss)), epoch_loss)\n",
    "plt.ylabel('Mean squared error')\n",
    "plt.xlabel('Epoch')\n",
    "plt.show()"
   ],
   "outputs": [
    {
     "data": {
      "text/plain": [
       "<Figure size 640x480 with 1 Axes>"
      ],
      "image/png": "[encoded data removed]"
     },
     "metadata": {},
     "output_type": "display_data"
    }
   ],
   "execution_count": 22
  },
  {
   "cell_type": "code",
   "metadata": {
    "ExecuteTime": {
     "end_time": "2025-01-09T10:25:45.445623800Z",
     "start_time": "2024-12-26T18:23:00.384394Z"
    }
   },
   "source": [
    "plt.plot(range(len(epoch_train_acc)), epoch_train_acc,\n",
    "         label='Training')\n",
    "plt.plot(range(len(epoch_valid_acc)), epoch_valid_acc,\n",
    "         label='Validation')\n",
    "plt.ylabel('Accuracy')\n",
    "plt.xlabel('Epochs')\n",
    "plt.legend(loc='lower right')\n",
    "plt.show()"
   ],
   "outputs": [
    {
     "data": {
      "text/plain": [
       "<Figure size 640x480 with 1 Axes>"
      ],
      "image/png": "[encoded data removed]"
     },
     "metadata": {},
     "output_type": "display_data"
    }
   ],
   "execution_count": 23
  },
  {
   "metadata": {
    "ExecuteTime": {
     "end_time": "2025-01-09T10:25:45.445623800Z",
     "start_time": "2024-12-26T18:29:59.505148Z"
    }
   },
   "cell_type": "code",
   "source": [
    "plt.plot(range(len(epoch_train_auc)), epoch_valid_auc,\n",
    "         label='Training')\n",
    "plt.plot(range(len(epoch_valid_auc)), epoch_valid_auc,\n",
    "         label='Validation')\n",
    "plt.ylabel('Macro AUC')\n",
    "plt.xlabel('Epochs')\n",
    "plt.legend(loc='lower right')\n",
    "plt.show()"
   ],
   "outputs": [
    {
     "data": {
      "text/plain": [
       "<Figure size 640x480 with 1 Axes>"
      ],
      "image/png": "[encoded data removed]"
     },
     "metadata": {},
     "output_type": "display_data"
    }
   ],
   "execution_count": 40
  },
  {
   "cell_type": "code",
   "metadata": {
    "ExecuteTime": {
     "end_time": "2025-01-09T10:25:45.446623Z",
     "start_time": "2024-12-26T18:29:28.034251Z"
    }
   },
   "source": [
    "test_mse, test_acc, test_auc = compute_mse_acc_auc(model, X_test, y_test)\n",
    "print(f'Test MSE: {test_mse:.6f}%')\n",
    "print(f'Test accuracy: {test_acc * 100:.6f}%')\n",
    "print(f'Test auc: {test_auc:.6f}%')"
   ],
   "outputs": [
    {
     "name": "stdout",
     "output_type": "stream",
     "text": [
      "Test MSE: 0.214036%\n",
      "Test accuracy: 94.123810%\n",
      "Test auc: 0.991689%\n"
     ]
    }
   ],
   "execution_count": 39
  }
 ],
 "metadata": {
  "anaconda-cloud": {},
  "kernelspec": {
   "display_name": "Python 3 (ipykernel)",
   "language": "python",
   "name": "python3"
  },
  "language_info": {
   "codemirror_mode": {
    "name": "ipython",
    "version": 3
   },
   "file_extension": ".py",
   "mimetype": "text/x-python",
   "name": "python",
   "nbconvert_exporter": "python",
   "pygments_lexer": "ipython3",
   "version": "3.10.6"
  }
 },
 "nbformat": 4,
 "nbformat_minor": 4
}
